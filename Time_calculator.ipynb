{
  "nbformat": 4,
  "nbformat_minor": 0,
  "metadata": {
    "colab": {
      "name": "Time calculator.ipynb",
      "provenance": [],
      "collapsed_sections": [],
      "authorship_tag": "ABX9TyN5l9Hh83TWwxz3FikcK04i",
      "include_colab_link": true
    },
    "kernelspec": {
      "name": "python3",
      "display_name": "Python 3"
    }
  },
  "cells": [
    {
      "cell_type": "markdown",
      "metadata": {
        "id": "view-in-github",
        "colab_type": "text"
      },
      "source": [
        "<a href=\"https://colab.research.google.com/github/DataAIchemist/Bioinformatics/blob/main/Time_calculator.ipynb\" target=\"_parent\"><img src=\"https://colab.research.google.com/assets/colab-badge.svg\" alt=\"Open In Colab\"/></a>"
      ]
    },
    {
      "cell_type": "code",
      "metadata": {
        "id": "N8yyk6yNTUPT",
        "colab": {
          "base_uri": "https://localhost:8080/"
        },
        "outputId": "9726963e-1607-402e-89b3-b1260d061c2a"
      },
      "source": [
        "from datetime import date\n",
        "\n",
        "p_date =date(1997, 5, 19)\n",
        "l_date = date(2021, 6, 28)\n",
        "f = l_date - p_date\n",
        "h = f.days * 24\n",
        "\n",
        "\n",
        "\n",
        "print(str(f.days) + \" total days ago.\\n\" + str(h) + \" total hours ago.\\n\")\n",
        "\n",
        "if f.days < 7:\n",
        "    if f.days == 1:\n",
        "        print(str(f.days) + \" day ago.\")\n",
        "    else:\n",
        "        print(str(f.days) + \" days ago.\")\n",
        "\n",
        "elif 7 <= f.days < 365:\n",
        "    weeks = f.days//7\n",
        "    days = f.days - 7*weeks\n",
        "    if weeks == 1:\n",
        "        if days == 1:\n",
        "            print(str(weeks) + \" week \" + \"and \" + str(days) + \" day ago.\")\n",
        "        elif days == 0:\n",
        "            print(str(weeks) + \" week ago.\")\n",
        "        else:\n",
        "            print(str(weeks) + \" week \" + \"and \" + str(days) + \" days ago.\")\n",
        "    else:\n",
        "        if days == 1:\n",
        "            print(str(weeks) + \" weeks \" + \"and \" + str(days) + \" day ago.\")\n",
        "        elif days == 0:\n",
        "            print(str(weeks) + \" weeks ago.\")\n",
        "        else:\n",
        "            print(str(weeks) + \" weeks \" + \"and \" + str(days) + \" days ago.\")\n",
        "# Test this out\n",
        "else:\n",
        "    year = f.days//365\n",
        "    days_pol = f.days - 365*year\n",
        "    weeks = days_pol//7\n",
        "    days = f.days - 365*year - 7*weeks\n",
        "    if year == 1:\n",
        "        if weeks == 1:\n",
        "            if days == 1:\n",
        "                print(str(year) + \" year, \" + str(weeks) + \" week\" + \" and \" + str(days) + \" day ago.\")\n",
        "            elif days == 0:\n",
        "                print(str(year) + \" year and \" + str(weeks) + \" week ago.\")\n",
        "            else:\n",
        "                print(str(year) + \" year, \" + str(weeks) + \" week \" + \"and \" + str(days) + \" days ago.\")\n",
        "        elif weeks == 0:\n",
        "            if days == 1:\n",
        "                print(str(year) + \" year and \" + str(days) + \" day ago.\")\n",
        "            elif days == 0:\n",
        "                print(str(year) + \" year ago.\")\n",
        "            else:\n",
        "                print(str(year) + \" year and \" + str(days) + \" days ago.\")\n",
        "        else:\n",
        "            if days == 1:\n",
        "                print(str(year) + \" year, \" + str(weeks) + \" weeks \" + \" and \" + str(days) + \" day ago.\")\n",
        "            elif days == 0:\n",
        "                print(str(year) + \" year and \" + str(weeks) +\" weeks ago.\")\n",
        "            else:\n",
        "                print(str(year) + \" year, \" + str(weeks) +\" weeks\" + \" and \" + str(days) + \" days ago.\")\n",
        "    else:\n",
        "        if weeks == 1:\n",
        "            if days == 1:\n",
        "                print(str(year) + \" years, \" + str(weeks) + \" week\" + \" and \" + str(days) + \" day ago.\")\n",
        "            elif days == 0:\n",
        "                print(str(year) + \" years, \" + str(weeks) + \" week ago.\")\n",
        "            else:\n",
        "                print(str(year) + \" years, \" + str(weeks) + \" week \" + \" and \" + str(days) + \" days ago.\")\n",
        "        elif weeks == 0:\n",
        "            if days == 1:\n",
        "                print(str(year) + \" years and \" + str(days) + \" day ago.\")\n",
        "            elif days == 0:\n",
        "                print(str(year)+ \" years ago.\")\n",
        "            else:\n",
        "                print(str(year) + \" years and \" + str(days) + \" days ago.\")\n",
        "        else:\n",
        "            if days == 1:\n",
        "                print(str(year) + \" years, \" + str(weeks) + \" weeks and \" + str(days) + \" day ago.\")\n",
        "            elif days == 0:\n",
        "                print(str(year) + \" years and \" + str(weeks) +\" weeks ago.\")\n",
        "            else:\n",
        "                print(str(year) + \" years, \" + str(weeks) +\" weeks and \" + str(days) + \" days ago.\")\n",
        "\n",
        "\n"
      ],
      "execution_count": 121,
      "outputs": [
        {
          "output_type": "stream",
          "text": [
            "8806 total days ago.\n",
            "211344 total hours ago.\n",
            "\n",
            "24 years, 6 weeks and 4 days ago.\n"
          ],
          "name": "stdout"
        }
      ]
    },
    {
      "cell_type": "code",
      "metadata": {
        "id": "Df0WYih7qpzO"
      },
      "source": [
        ""
      ],
      "execution_count": null,
      "outputs": []
    }
  ]
}